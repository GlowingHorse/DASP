{
 "cells": [
  {
   "cell_type": "markdown",
   "metadata": {
    "collapsed": true
   },
   "source": [
    "## Parkinsons Telemonitoring Data Set \n",
    "https://archive.ics.uci.edu/ml/datasets/parkinsons+telemonitoring"
   ]
  },
  {
   "cell_type": "code",
   "execution_count": 1,
   "metadata": {
    "collapsed": false
   },
   "outputs": [
    {
     "name": "stderr",
     "output_type": "stream",
     "text": [
      "Using TensorFlow backend.\n"
     ]
    },
    {
     "name": "stdout",
     "output_type": "stream",
     "text": [
      "Using TF: 1.11.0\n",
      "Using Keras: 2.2.4\n"
     ]
    }
   ],
   "source": [
    "from __future__ import absolute_import\n",
    "from __future__ import division\n",
    "from __future__ import print_function\n",
    "\n",
    "import tempfile, sys, os, pickle\n",
    "sys.path.insert(0, os.path.abspath('../..'))\n",
    "#os.environ[\"CUDA_VISIBLE_DEVICES\"]=\"-1\" \n",
    "\n",
    "import keras\n",
    "from keras.datasets import mnist\n",
    "from keras.models import Sequential, Model, load_model\n",
    "from keras.layers import Dense, Dropout, Flatten, Activation, Input, Conv2D, MaxPooling2D\n",
    "from keras import regularizers\n",
    "from keras import backend as K\n",
    "import numpy as np\n",
    "import tensorflow as tf\n",
    "from sklearn.preprocessing import MinMaxScaler\n",
    "import scipy\n",
    "print (\"Using TF:\", tf.__version__)\n",
    "print (\"Using Keras:\", keras.__version__)\n",
    "\n",
    "# Import DASP\n",
    "from dasp import DASP\n",
    "\n",
    "#Import DeepLift\n",
    "# Installation instructions: https://github.com/kundajelab/deeplift\n",
    "import deeplift\n",
    "from deeplift.layers import NonlinearMxtsMode\n",
    "from deeplift.conversion import kerasapi_conversion as kc\n",
    "from deeplift.util import compile_func\n",
    "\n",
    "# Import Deep Explain (for Grad * Input, Integrated Gradients and Occlusion implementations)\n",
    "# Installation instructions: https://github.com/marcoancona/DeepExplain\n",
    "from deepexplain.tensorflow import DeepExplain"
   ]
  },
  {
   "cell_type": "code",
   "execution_count": 2,
   "metadata": {
    "collapsed": false
   },
   "outputs": [
    {
     "name": "stdout",
     "output_type": "stream",
     "text": [
      "MinMaxScaler(copy=True, feature_range=(-1, 1))\n",
      "(5875, 18)\n",
      "x_train shape: (4995, 18)\n",
      "4995 train samples\n",
      "880 test samples\n",
      "[17.699  36.747   7.8128 ... 15.419  18.199  40.196 ]\n",
      "Epoch 00511: early stopping\n",
      "Done\n",
      "880/880 [==============================] - 0s 59us/step\n"
     ]
    },
    {
     "data": {
      "text/plain": [
       "[35.06389212174849, 4.430029526623812]"
      ]
     },
     "execution_count": 2,
     "metadata": {},
     "output_type": "execute_result"
    }
   ],
   "source": [
    "# Build and train a network.\n",
    "\n",
    "np.random.seed(15) # for riproducibility\n",
    "\n",
    "SKIP_TRAIN = False\n",
    "saved_model_file = '.model.h5'\n",
    "saved_model_weights_file = '.model_weights.h5'\n",
    "\n",
    "batch_size = 64\n",
    "epochs = 1000 # using early stopping\n",
    "\n",
    "# Load data from CSV\n",
    "data = np.loadtxt(open(\"data/parkinsons_updrs.csv\", \"rb\"), delimiter=\",\", skiprows=1).astype(np.float32)\n",
    "\n",
    "\n",
    "np.random.shuffle(data)\n",
    "data_y = data[:, 5]\n",
    "data_x = data[:, [1, 2, 6, 7, 8, 9, 10, 11, 12, 13, 14, 15, 16, 17, 18, 19, 20, 21]]\n",
    "\n",
    "scaler = MinMaxScaler(feature_range=(-1, 1))\n",
    "print(scaler.fit(data_x))\n",
    "data_x = scaler.transform(data_x)\n",
    "\n",
    "assert np.isnan(data_x).any() == False\n",
    "assert np.isnan(data_y).any() == False\n",
    "\n",
    "\n",
    "print (data_x.shape)\n",
    "x_test = data_x[:880]\n",
    "y_test = data_y[:880]\n",
    "x_train = data_x[880:]\n",
    "y_train = data_y[880:]\n",
    "\n",
    "\n",
    "print('x_train shape:', x_train.shape)\n",
    "print(x_train.shape[0], 'train samples')\n",
    "print(x_test.shape[0], 'test samples')\n",
    "print (y_train)\n",
    "activation = 'relu'\n",
    "\n",
    "if SKIP_TRAIN:\n",
    "    model = load_model(saved_model_file)\n",
    "else:\n",
    "    model = Sequential()\n",
    "    model.add(Dense(128, input_shape=(x_train.shape[1],), activation=activation, name='dense_1'))\n",
    "    model.add(Dropout(0.2))\n",
    "    model.add(Dense(64, activation=activation, name='dense_2'))\n",
    "    model.add(Dropout(0.2))\n",
    "    model.add(Dense(1, name='dense_3'))\n",
    "    \n",
    "    stop = keras.callbacks.EarlyStopping(monitor='val_loss', min_delta=0, patience=20, verbose=1)\n",
    "\n",
    "    model.compile(loss=keras.losses.mean_squared_error,\n",
    "                  optimizer=keras.optimizers.adam(),\n",
    "                  metrics=['mae'])\n",
    "\n",
    "    model.fit(x_train, y_train,\n",
    "              batch_size=batch_size,\n",
    "              epochs=epochs,\n",
    "              verbose=0,\n",
    "              callbacks=[stop],\n",
    "              validation_data=(x_test, y_test))\n",
    "    model.save(saved_model_file)\n",
    "    model.save_weights(saved_model_weights_file)\n",
    "print (\"Done\")\n",
    "model.evaluate(x_test, y_test)\n",
    "\n"
   ]
  },
  {
   "cell_type": "code",
   "execution_count": 10,
   "metadata": {
    "collapsed": false
   },
   "outputs": [],
   "source": [
    "xs = x_test[0:100]\n",
    "ys = y_test[0:100]\n",
    "\n",
    "a_intgrad = np.zeros_like(xs)\n",
    "a_res = np.zeros_like(xs)\n",
    "a_rc = np.zeros_like(xs)\n",
    "a_occlusion = np.zeros_like(xs)\n",
    "a_dasp = np.zeros_like(xs)\n",
    "a_exact = np.zeros_like(xs)"
   ]
  },
  {
   "cell_type": "markdown",
   "metadata": {
    "collapsed": false
   },
   "source": [
    "### Use Deep Shapley propagation to compute approximate Shapley Values.\n",
    "Notice that this requires to convert our original model into a propababilistic one. We provide probabilistic layers for this.\n",
    "Also, this will require O(c*n) evaluations of the probabilistic network, where n is the number of input features and c is the number of coalition sizes to be tested (ideally c = n)"
   ]
  },
  {
   "cell_type": "code",
   "execution_count": 11,
   "metadata": {
    "collapsed": false
   },
   "outputs": [
    {
     "name": "stdout",
     "output_type": "stream",
     "text": [
      "__________________________________________________________________________________________________\n",
      "Layer (type)                    Output Shape         Param #     Connected to                     \n",
      "==================================================================================================\n",
      "input_1 (InputLayer)            (None, 18)           0                                            \n",
      "__________________________________________________________________________________________________\n",
      "input_2 (InputLayer)            (None, 18)           0                                            \n",
      "__________________________________________________________________________________________________\n",
      "input_3 (InputLayer)            (None, 1)            0                                            \n",
      "__________________________________________________________________________________________________\n",
      "dense_1 (ProbDenseInput)        (None, 128, 4)       2432        input_1[0][0]                    \n",
      "                                                                 input_2[0][0]                    \n",
      "                                                                 input_3[0][0]                    \n",
      "__________________________________________________________________________________________________\n",
      "lambda_1 (Lambda)               (None, 128, 2)       0           dense_1[0][0]                    \n",
      "__________________________________________________________________________________________________\n",
      "lambda_2 (Lambda)               (None, 128, 2)       0           dense_1[0][0]                    \n",
      "__________________________________________________________________________________________________\n",
      "dense_2 (LPDense)               (None, 64, 2)        8256        lambda_1[0][0]                   \n",
      "                                                                 lambda_2[0][0]                   \n",
      "__________________________________________________________________________________________________\n",
      "dense_3 (LPDense)               (None, 1, 2)         65          dense_2[1][0]                    \n",
      "                                                                 dense_2[2][0]                    \n",
      "==================================================================================================\n",
      "Total params: 10,753\n",
      "Trainable params: 10,753\n",
      "Non-trainable params: 0\n",
      "__________________________________________________________________________________________________\n"
     ]
    }
   ],
   "source": [
    "# Init DASP\n",
    "dasp = DASP(model)\n",
    "# Get model description (optional)\n",
    "dasp.model_summary()"
   ]
  },
  {
   "cell_type": "code",
   "execution_count": 13,
   "metadata": {
    "collapsed": false
   },
   "outputs": [],
   "source": [
    "# Run DASP with 18 (=n_input_features) coalition sizes\n",
    "a_dasp = dasp.run(xs, 18)"
   ]
  },
  {
   "cell_type": "markdown",
   "metadata": {},
   "source": [
    "### Use DeepExplain framework to compute Integrated Gradients and Occlusion"
   ]
  },
  {
   "cell_type": "code",
   "execution_count": 14,
   "metadata": {
    "collapsed": false
   },
   "outputs": [
    {
     "name": "stdout",
     "output_type": "stream",
     "text": [
      "CPU times: user 0 ns, sys: 0 ns, total: 0 ns\n",
      "Wall time: 5.96 µs\n",
      "DeepExplain: running \"intgrad\" explanation method (3)\n",
      "Model with multiple inputs:  False\n",
      "DeepExplain: running \"occlusion\" explanation method (6)\n",
      "Model with multiple inputs:  False\n",
      "Input shape: (18,); window_shape (1,); step 1\n",
      "DeepExplain: running \"intgrad\" explanation method (3)\n",
      "Model with multiple inputs:  False\n",
      "DeepExplain: running \"intgrad\" explanation method (3)\n",
      "Model with multiple inputs:  False\n",
      "DeepExplain: running \"intgrad\" explanation method (3)\n",
      "Model with multiple inputs:  False\n",
      "DeepExplain: running \"intgrad\" explanation method (3)\n",
      "Model with multiple inputs:  False\n",
      "DeepExplain: running \"intgrad\" explanation method (3)\n",
      "Model with multiple inputs:  False\n",
      "DeepExplain: running \"intgrad\" explanation method (3)\n",
      "Model with multiple inputs:  False\n",
      "DeepExplain: running \"intgrad\" explanation method (3)\n",
      "Model with multiple inputs:  False\n",
      "DeepExplain: running \"intgrad\" explanation method (3)\n",
      "Model with multiple inputs:  False\n",
      "Done\n"
     ]
    }
   ],
   "source": [
    "%time\n",
    "with DeepExplain(session=K.get_session()) as de:  # <-- init DeepExplain context\n",
    "    # Need to reconstruct the graph in DeepExplain context, using the same weights.\n",
    "    # With Keras this is very easy:\n",
    "    # 1. Get the input tensor to the original model\n",
    "    input_tensor = model.layers[0].input\n",
    "    \n",
    "    # 2. We now target the output of the last dense layer (pre-softmax)\n",
    "    # To do so, create a new model sharing the same layers untill the last dense (index -2)\n",
    "    fModel = Model(inputs=input_tensor, outputs = model.output)\n",
    "    target_tensor = fModel(input_tensor)\n",
    "    \n",
    "    a_intgrad = de.explain('intgrad', target_tensor, input_tensor, xs)\n",
    "    a_occlusion = de.explain('occlusion', target_tensor, input_tensor, xs)\n",
    "    intgrads = [(k, de.explain('intgrad', target_tensor, input_tensor, xs, steps=k)) for k in [1, 2, 4, 8, 16, 32, 64, 128]]\n",
    "    print (\"Done\")"
   ]
  },
  {
   "cell_type": "markdown",
   "metadata": {},
   "source": [
    "### DeepLIFT"
   ]
  },
  {
   "cell_type": "code",
   "execution_count": 15,
   "metadata": {
    "collapsed": false
   },
   "outputs": [
    {
     "name": "stdout",
     "output_type": "stream",
     "text": [
      "nonlinear_mxts_mode is set to: RevealCancel\n",
      "nonlinear_mxts_mode is set to: Rescale\n",
      "(100, 1, 18)\n",
      "CPU times: user 1min 7s, sys: 324 ms, total: 1min 7s\n",
      "Wall time: 1min 7s\n"
     ]
    }
   ],
   "source": [
    "%%time\n",
    "# Compute DeepLift attributions\n",
    "revealcancel_model = kc.convert_model_from_saved_files(\n",
    "                            h5_file=saved_model_file,\n",
    "                            nonlinear_mxts_mode=NonlinearMxtsMode.RevealCancel)\n",
    "\n",
    "    \n",
    "    \n",
    "rescale_model = kc.convert_model_from_saved_files(\n",
    "                            h5_file=saved_model_file,\n",
    "                            nonlinear_mxts_mode=NonlinearMxtsMode.Rescale)\n",
    "\n",
    "revealcancel_func = revealcancel_model.get_target_contribs_func(find_scores_layer_idx=0, target_layer_idx=-1)\n",
    "rescale_func = rescale_model.get_target_contribs_func(find_scores_layer_idx=0, target_layer_idx=-1)\n",
    "\n",
    "a_rc = np.array([np.array(revealcancel_func(\n",
    "                task_idx=0,\n",
    "                input_data_list=[[x]],\n",
    "                input_references_list=[[np.zeros_like(x)]],\n",
    "                batch_size=100,\n",
    "                progress_update=None)) for x in xs])\n",
    "\n",
    "a_res = np.array([np.array(rescale_func(\n",
    "                task_idx=0,\n",
    "                input_data_list=[[x]],\n",
    "                input_references_list=[[np.zeros_like(x)]],\n",
    "                batch_size=100,\n",
    "                progress_update=None)) for x in xs])\n",
    "print (a_rc.shape)\n",
    "a_rc = a_rc[:, 0, ...]\n",
    "a_res = a_res[:, 0, ...]"
   ]
  },
  {
   "cell_type": "markdown",
   "metadata": {},
   "source": [
    "### Exact Shapley Values\n",
    "Since there are only 18 input features, in this case it is possible to compute the exact Shapley Values in reasonable time."
   ]
  },
  {
   "cell_type": "code",
   "execution_count": 17,
   "metadata": {
    "collapsed": false
   },
   "outputs": [
    {
     "name": "stdout",
     "output_type": "stream",
     "text": [
      "CPU times: user 2h 23min 42s, sys: 12min 7s, total: 2h 35min 49s\n",
      "Wall time: 1h 33min 13s\n"
     ]
    }
   ],
   "source": [
    "%%time\n",
    "from utils.exact_shapley import compute_shapley\n",
    "a_exact = np.array([compute_shapley(xx, lambda x: model.predict(np.array(x)).sum(-1)) for xx in xs])"
   ]
  },
  {
   "cell_type": "code",
   "execution_count": 20,
   "metadata": {
    "collapsed": false
   },
   "outputs": [
    {
     "name": "stdout",
     "output_type": "stream",
     "text": [
      "[[1.3082829]]\n",
      "1.3082847566725058\n",
      "3.2559823393821716\n"
     ]
    }
   ],
   "source": [
    "# Sanity check for exact shap and DASP\n",
    "print (fModel.predict(np.array([xs[0]])) - fModel.predict(np.array([np.zeros_like(xs[0])])))\n",
    "print (a_exact[0].sum())\n",
    "print (a_dasp[0].sum())\n",
    "\n"
   ]
  },
  {
   "cell_type": "code",
   "execution_count": 22,
   "metadata": {
    "collapsed": false
   },
   "outputs": [],
   "source": [
    "attributions = [\n",
    "    ('Integrated\\nGradients',      a_intgrad.reshape(xs.shape)), \n",
    "    ('DL\\n(Rescale)',              a_res.reshape(xs.shape)), \n",
    "    ('DL\\n(RevCancel)',            a_rc.reshape(xs.shape)), \n",
    "    ('Occlusion',                  a_occlusion.reshape(xs.shape)), \n",
    "    ('DASP (Ours)',                a_dasp.reshape(xs.shape)), \n",
    "    ('GT',                         a_exact.reshape(xs.shape))\n",
    "]"
   ]
  },
  {
   "cell_type": "code",
   "execution_count": 23,
   "metadata": {
    "collapsed": false
   },
   "outputs": [
    {
     "name": "stderr",
     "output_type": "stream",
     "text": [
      "/usr/local/lib/python3.6/dist-packages/skimage/transform/_warps.py:24: UserWarning: The default multichannel argument (None) is deprecated.  Please specify either True or False explicitly.  multichannel will default to False starting with release 0.16.\n",
      "  warn('The default multichannel argument (None) is deprecated.  Please '\n",
      "/usr/local/lib/python3.6/dist-packages/skimage/transform/_warps.py:110: UserWarning: Anti-aliasing will be enabled by default in skimage 0.15 to avoid aliasing artifacts when down-sampling images.\n",
      "  warn(\"Anti-aliasing will be enabled by default in skimage 0.15 to \"\n",
      "/usr/local/lib/python3.6/dist-packages/matplotlib/image.py:395: UserWarning: Warning: converting a masked element to nan.\n",
      "  dv = (np.float64(self.norm.vmax) -\n",
      "/usr/local/lib/python3.6/dist-packages/matplotlib/image.py:396: UserWarning: Warning: converting a masked element to nan.\n",
      "  np.float64(self.norm.vmin))\n",
      "/usr/local/lib/python3.6/dist-packages/matplotlib/image.py:403: UserWarning: Warning: converting a masked element to nan.\n",
      "  a_min = np.float64(newmin)\n",
      "/usr/local/lib/python3.6/dist-packages/matplotlib/image.py:408: UserWarning: Warning: converting a masked element to nan.\n",
      "  a_max = np.float64(newmax)\n",
      "/usr/local/lib/python3.6/dist-packages/matplotlib/colors.py:902: UserWarning: Warning: converting a masked element to nan.\n",
      "  dtype = np.min_scalar_type(value)\n",
      "/usr/local/lib/python3.6/dist-packages/numpy/ma/core.py:716: UserWarning: Warning: converting a masked element to nan.\n",
      "  data = np.array(a, copy=False, subok=subok)\n"
     ]
    },
    {
     "data": {
      "image/png": "[encoded data removed]",
      "text/plain": [
       "<Figure size 864x720 with 30 Axes>"
      ]
     },
     "metadata": {
      "needs_background": "light"
     },
     "output_type": "display_data"
    }
   ],
   "source": [
    "# Plot attributions\n",
    "%matplotlib inline\n",
    "from utils.utils import plot_attribution_maps\n",
    "\n",
    "# Plot all\n",
    "plot_attribution_maps(\"parkinson\", \n",
    "                      np.ones_like(xs).reshape(-1, 1, 18), \n",
    "                      [x[1].reshape(-1, 1, 18) for x in attributions],\n",
    "                      [x[0] for x in attributions],\n",
    "                      percentile=100,\n",
    "                      show_original=False,\n",
    "                      dilation=2,\n",
    "                      alpha=0.3,\n",
    "                      idxs=range(5))"
   ]
  },
  {
   "cell_type": "code",
   "execution_count": 24,
   "metadata": {
    "collapsed": false
   },
   "outputs": [
    {
     "data": {
      "image/png": "[encoded data removed]",
      "text/plain": [
       "<Figure size 432x216 with 1 Axes>"
      ]
     },
     "metadata": {
      "needs_background": "light"
     },
     "output_type": "display_data"
    },
    {
     "data": {
      "image/png": "[encoded data removed]",
      "text/plain": [
       "<Figure size 432x216 with 1 Axes>"
      ]
     },
     "metadata": {
      "needs_background": "light"
     },
     "output_type": "display_data"
    }
   ],
   "source": [
    "from utils.utils import plot_mse_comparison, plot_correlation_comparison\n",
    "\n",
    "plot_mse_comparison('parkinson',\n",
    "                    [x[1] for x in attributions],\n",
    "                    [x[0] for x in attributions],\n",
    "                    gt_idx=-1)\n",
    "plot_correlation_comparison('parkinson',\n",
    "                        [x[1] for x in attributions],\n",
    "                        [x[0] for x in attributions],\n",
    "                        gt_idx=-1)"
   ]
  },
  {
   "cell_type": "markdown",
   "metadata": {},
   "source": [
    "## Comparison of feature importance assigned by Integrated Gradients and DASP\n",
    "We use the plot from (Lundberg et al., 2017) to visualize how features are attributed different importance values over the 100 samples we are considering. In the following plot, each dot is an individual in the dataset. Notice, for example, how Integrated Gradients underestimates the impact (positive or negative) of *age* while overestimates the one of *sex*."
   ]
  },
  {
   "cell_type": "code",
   "execution_count": 25,
   "metadata": {
    "collapsed": false
   },
   "outputs": [
    {
     "ename": "ModuleNotFoundError",
     "evalue": "No module named 'utils.summary_plot'",
     "output_type": "error",
     "traceback": [
      "\u001b[0;31m---------------------------------------------------------------------------\u001b[0m",
      "\u001b[0;31mModuleNotFoundError\u001b[0m                       Traceback (most recent call last)",
      "\u001b[0;32m<ipython-input-25-378b57ea2812>\u001b[0m in \u001b[0;36m<module>\u001b[0;34m\u001b[0m\n\u001b[0;32m----> 1\u001b[0;31m \u001b[0;32mfrom\u001b[0m \u001b[0mutils\u001b[0m\u001b[0;34m.\u001b[0m\u001b[0msummary_plot\u001b[0m \u001b[0;32mimport\u001b[0m \u001b[0msummary_plot\u001b[0m\u001b[0;34m\u001b[0m\u001b[0;34m\u001b[0m\u001b[0m\n\u001b[0m\u001b[1;32m      2\u001b[0m \u001b[0mshap\u001b[0m\u001b[0;34m.\u001b[0m\u001b[0minitjs\u001b[0m\u001b[0;34m(\u001b[0m\u001b[0;34m)\u001b[0m\u001b[0;34m\u001b[0m\u001b[0;34m\u001b[0m\u001b[0m\n\u001b[1;32m      3\u001b[0m feat_names = [\n\u001b[1;32m      4\u001b[0m \u001b[0;34m\"age\"\u001b[0m\u001b[0;34m,\u001b[0m\u001b[0;34m\"sex\"\u001b[0m\u001b[0;34m,\u001b[0m\u001b[0;34m\"Jitter(%)\"\u001b[0m\u001b[0;34m,\u001b[0m\u001b[0;34m\"Jitter(Abs)\"\u001b[0m\u001b[0;34m,\u001b[0m\u001b[0;34m\"Jitter:RAP\"\u001b[0m\u001b[0;34m,\u001b[0m\u001b[0;34m\"Jitter:PPQ5\"\u001b[0m\u001b[0;34m,\u001b[0m\u001b[0;34m\"Jitter:DDP\"\u001b[0m\u001b[0;34m,\u001b[0m\u001b[0;34m\"Shimmer\"\u001b[0m\u001b[0;34m,\u001b[0m\u001b[0;34m\"Shimmer(dB)\"\u001b[0m\u001b[0;34m,\u001b[0m\u001b[0;34m\"Shimmer:APQ3\"\u001b[0m\u001b[0;34m\u001b[0m\u001b[0;34m\u001b[0m\u001b[0m\n\u001b[1;32m      5\u001b[0m     ,\"Shimmer:APQ5\",\"Shimmer:APQ11\",\"Shimmer:DDA\",\"NHR\",\"HNR\",\"RPDE\",\"DFA\",\"PPE\"]\n",
      "\u001b[0;31mModuleNotFoundError\u001b[0m: No module named 'utils.summary_plot'"
     ]
    }
   ],
   "source": [
    "from utils.summary_plot import summary_plot\n",
    "shap.initjs()\n",
    "feat_names = [\n",
    "\"age\",\"sex\",\"Jitter(%)\",\"Jitter(Abs)\",\"Jitter:RAP\",\"Jitter:PPQ5\",\"Jitter:DDP\",\"Shimmer\",\"Shimmer(dB)\",\"Shimmer:APQ3\"\n",
    "    ,\"Shimmer:APQ5\",\"Shimmer:APQ11\",\"Shimmer:DDA\",\"NHR\",\"HNR\",\"RPDE\",\"DFA\",\"PPE\"]\n",
    "\n",
    "#shap.summary_plot(a_rc, xs, feat_names)\n",
    "summary_plot(a_dasp, xs, feat_names, sort=False, limit=30, title=\"DASP\")\n",
    "summary_plot(a_rc, xs, feat_names, sort=False, limit=30, title='Integrated Gradients')"
   ]
  },
  {
   "cell_type": "code",
   "execution_count": 269,
   "metadata": {
    "collapsed": false
   },
   "outputs": [
    {
     "name": "stdout",
     "output_type": "stream",
     "text": [
      "[[23.649744]]\n",
      "[[5.5000000e+01 0.0000000e+00 6.5100007e-03 5.0339997e-05 3.2000002e-03\n",
      "  4.0799994e-03 9.6099991e-03 4.5110006e-02 3.9700001e-01 2.5630003e-02\n",
      "  3.0139999e-02 3.5870004e-02 7.6890007e-02 1.6067993e-02 2.0028999e+01\n",
      "  5.5746001e-01 6.7828000e-01 3.0860999e-01]]\n",
      "26.477\n"
     ]
    }
   ],
   "source": [
    "idx = 36\n",
    "_y = fModel.predict(np.zeros_like(xs[idx:idx+1]))\n",
    "print (fModel.predict(xs[idx:idx+1]))\n",
    "print (scaler.inverse_transform(xs[idx: idx+1]))\n",
    "print (ys[idx])"
   ]
  },
  {
   "cell_type": "code",
   "execution_count": 254,
   "metadata": {
    "collapsed": false
   },
   "outputs": [
    {
     "data": {
      "text/html": [
       "\n",
       "<div id='i8CLNS270TS1ZDSCDPQHP'>\n",
       "<div style='color: #900; text-align: center;'>\n",
       "  <b>Visualization omitted, Javascript library not loaded!</b><br>\n",
       "  Have you run `initjs()` in this notebook? If this notebook was from another\n",
       "  user you must also trust this notebook (File -> Trust notebook). If you are viewing\n",
       "  this notebook on github the Javascript has been stripped for security. If you are using\n",
       "  JupyterLab this error is because a JupyterLab extension has not yet been written.\n",
       "</div></div>\n",
       " <script>\n",
       "   if (window.SHAP) SHAP.ReactDom.render(\n",
       "    SHAP.React.createElement(SHAP.AdditiveForceVisualizer, {\"outNames\": [\"output value\"], \"baseValue\": 36.07440185546875, \"outValue\": 24.9337005617174, \"link\": \"identity\", \"featureNames\": [\"age\", \"sex\", \"Jitter(%)\", \"Jitter(Abs)\", \"Jitter:RAP\", \"Jitter:PPQ5\", \"Jitter:DDP\", \"Shimmer\", \"Shimmer(dB)\", \"Shimmer:APQ3\", \"Shimmer:APQ5\", \"Shimmer:APQ11\", \"Shimmer:DDA\", \"NHR\", \"HNR\", \"RPDE\", \"DFA\", \"PPE\"], \"features\": {\"0\": {\"effect\": -2.7955154574336225, \"value\": \"\"}, \"1\": {\"effect\": -4.4683516886588714, \"value\": \"\"}, \"2\": {\"effect\": 0.5264107421757702, \"value\": \"\"}, \"3\": {\"effect\": 5.883104994228796, \"value\": \"\"}, \"4\": {\"effect\": -3.4051637452237924, \"value\": \"\"}, \"5\": {\"effect\": 4.818082547031742, \"value\": \"\"}, \"6\": {\"effect\": -3.832417072234156, \"value\": \"\"}, \"7\": {\"effect\": -3.4868526078086703, \"value\": \"\"}, \"8\": {\"effect\": -2.4754353205778608, \"value\": \"\"}, \"9\": {\"effect\": -0.26000476755426527, \"value\": \"\"}, \"10\": {\"effect\": 0.7029435553635593, \"value\": \"\"}, \"11\": {\"effect\": 1.423320673679341, \"value\": \"\"}, \"12\": {\"effect\": 0.11020366767679918, \"value\": \"\"}, \"13\": {\"effect\": 2.03032688922104, \"value\": \"\"}, \"14\": {\"effect\": -2.742881431183121, \"value\": \"\"}, \"15\": {\"effect\": -0.7099952765847815, \"value\": \"\"}, \"16\": {\"effect\": -3.3013689642747144, \"value\": \"\"}, \"17\": {\"effect\": 0.8428919684054622, \"value\": \"\"}}, \"plot_cmap\": [\"#C52A38\", \"#3EA0C6\"], \"labelMargin\": 20}),\n",
       "    document.getElementById('i8CLNS270TS1ZDSCDPQHP')\n",
       "  );\n",
       "</script>"
      ],
      "text/plain": [
       "<IPython.core.display.HTML object>"
      ]
     },
     "execution_count": 254,
     "metadata": {},
     "output_type": "execute_result"
    }
   ],
   "source": [
    "from utils.force_plot import force_plot\n",
    "force_plot(_y[0], a_exact[idx,:], feature_names=feat_names, plot_cmap=[\"#C52A38\", \"#3EA0C6\"])"
   ]
  },
  {
   "cell_type": "code",
   "execution_count": 264,
   "metadata": {
    "collapsed": false
   },
   "outputs": [
    {
     "data": {
      "text/html": [
       "\n",
       "<div id='iIOM5X77YZRL3PJEL2GNY'>\n",
       "<div style='color: #900; text-align: center;'>\n",
       "  <b>Visualization omitted, Javascript library not loaded!</b><br>\n",
       "  Have you run `initjs()` in this notebook? If this notebook was from another\n",
       "  user you must also trust this notebook (File -> Trust notebook). If you are viewing\n",
       "  this notebook on github the Javascript has been stripped for security. If you are using\n",
       "  JupyterLab this error is because a JupyterLab extension has not yet been written.\n",
       "</div></div>\n",
       " <script>\n",
       "   if (window.SHAP) SHAP.ReactDom.render(\n",
       "    SHAP.React.createElement(SHAP.AdditiveForceVisualizer, {\"outNames\": [\"output value\"], \"baseValue\": 36.07440185546875, \"outValue\": 23.2919045554267, \"link\": \"identity\", \"featureNames\": [\"age\", \"sex\", \"Jitter(%)\", \"Jitter(Abs)\", \"Jitter:RAP\", \"Jitter:PPQ5\", \"Jitter:DDP\", \"Shimmer\", \"Shimmer(dB)\", \"Shimmer:APQ3\", \"Shimmer:APQ5\", \"Shimmer:APQ11\", \"Shimmer:DDA\", \"NHR\", \"HNR\", \"RPDE\", \"DFA\", \"PPE\"], \"features\": {\"0\": {\"effect\": -10.455347696940104, \"value\": \"\"}, \"1\": {\"effect\": 4.938089264763726, \"value\": \"\"}, \"2\": {\"effect\": -2.288863288031684, \"value\": \"\"}, \"3\": {\"effect\": 8.673605389065212, \"value\": \"\"}, \"4\": {\"effect\": -3.8443440331353083, \"value\": \"\"}, \"5\": {\"effect\": 3.6017586390177407, \"value\": \"\"}, \"6\": {\"effect\": -6.357165866427952, \"value\": \"\"}, \"7\": {\"effect\": -2.353829277886285, \"value\": \"\"}, \"8\": {\"effect\": -1.6053422292073567, \"value\": \"\"}, \"9\": {\"effect\": -0.329475826687283, \"value\": \"\"}, \"10\": {\"effect\": 0.36237504747178817, \"value\": \"\"}, \"11\": {\"effect\": 1.9268264770507812, \"value\": \"\"}, \"12\": {\"effect\": -0.021104812622070312, \"value\": \"\"}, \"13\": {\"effect\": -5.066762500339085, \"value\": \"\"}, \"14\": {\"effect\": -0.24028968811035156, \"value\": \"\"}, \"15\": {\"effect\": 0.01694668663872613, \"value\": \"\"}, \"16\": {\"effect\": 0.6167545318603516, \"value\": \"\"}, \"17\": {\"effect\": -0.356328116522895, \"value\": \"\"}}, \"plot_cmap\": [\"#C52A38\", \"#3EA0C6\"], \"labelMargin\": 20}),\n",
       "    document.getElementById('iIOM5X77YZRL3PJEL2GNY')\n",
       "  );\n",
       "</script>"
      ],
      "text/plain": [
       "<IPython.core.display.HTML object>"
      ]
     },
     "execution_count": 264,
     "metadata": {},
     "output_type": "execute_result"
    }
   ],
   "source": [
    "force_plot(_y[0], a_dasp[idx,:], feature_names=feat_names, plot_cmap=[\"#C52A38\", \"#3EA0C6\"])"
   ]
  },
  {
   "cell_type": "code",
   "execution_count": 257,
   "metadata": {
    "collapsed": false
   },
   "outputs": [
    {
     "data": {
      "text/html": [
       "\n",
       "<div id='iCRRQIS3FSWG4GFH398Z2'>\n",
       "<div style='color: #900; text-align: center;'>\n",
       "  <b>Visualization omitted, Javascript library not loaded!</b><br>\n",
       "  Have you run `initjs()` in this notebook? If this notebook was from another\n",
       "  user you must also trust this notebook (File -> Trust notebook). If you are viewing\n",
       "  this notebook on github the Javascript has been stripped for security. If you are using\n",
       "  JupyterLab this error is because a JupyterLab extension has not yet been written.\n",
       "</div></div>\n",
       " <script>\n",
       "   if (window.SHAP) SHAP.ReactDom.render(\n",
       "    SHAP.React.createElement(SHAP.AdditiveForceVisualizer, {\"outNames\": [\"output value\"], \"baseValue\": 36.07440185546875, \"outValue\": 24.658064749563163, \"link\": \"identity\", \"featureNames\": [\"age\", \"sex\", \"Jitter(%)\", \"Jitter(Abs)\", \"Jitter:RAP\", \"Jitter:PPQ5\", \"Jitter:DDP\", \"Shimmer\", \"Shimmer(dB)\", \"Shimmer:APQ3\", \"Shimmer:APQ5\", \"Shimmer:APQ11\", \"Shimmer:DDA\", \"NHR\", \"HNR\", \"RPDE\", \"DFA\", \"PPE\"], \"features\": {\"0\": {\"effect\": -3.929425641449634, \"value\": \"\"}, \"1\": {\"effect\": 0.14328840255737305, \"value\": \"\"}, \"2\": {\"effect\": -2.949854083126411, \"value\": \"\"}, \"3\": {\"effect\": 11.681541024876788, \"value\": \"\"}, \"4\": {\"effect\": -5.610175023878074, \"value\": \"\"}, \"5\": {\"effect\": 6.21090605096615, \"value\": \"\"}, \"6\": {\"effect\": -9.799498801253575, \"value\": \"\"}, \"7\": {\"effect\": -2.6454740381401645, \"value\": \"\"}, \"8\": {\"effect\": -2.1509164606926787, \"value\": \"\"}, \"9\": {\"effect\": -0.835793164204697, \"value\": \"\"}, \"10\": {\"effect\": 1.1798579001526377, \"value\": \"\"}, \"11\": {\"effect\": 3.875134033039558, \"value\": \"\"}, \"12\": {\"effect\": -1.4574038825390017, \"value\": \"\"}, \"13\": {\"effect\": -2.0451288087305146, \"value\": \"\"}, \"14\": {\"effect\": -0.9399031172630202, \"value\": \"\"}, \"15\": {\"effect\": 0.7652884585185166, \"value\": \"\"}, \"16\": {\"effect\": -4.060556547339075, \"value\": \"\"}, \"17\": {\"effect\": 1.1517765926002357, \"value\": \"\"}}, \"plot_cmap\": [\"#C52A38\", \"#3EA0C6\"], \"labelMargin\": 20}),\n",
       "    document.getElementById('iCRRQIS3FSWG4GFH398Z2')\n",
       "  );\n",
       "</script>"
      ],
      "text/plain": [
       "<IPython.core.display.HTML object>"
      ]
     },
     "execution_count": 257,
     "metadata": {},
     "output_type": "execute_result"
    }
   ],
   "source": [
    "force_plot(_y[0], a_intgrad[idx,:], feature_names=feat_names, plot_cmap=[\"#C52A38\", \"#3EA0C6\"])"
   ]
  }
 ],
 "metadata": {
  "kernelspec": {
   "display_name": "Python 3",
   "language": "python",
   "name": "python3"
  },
  "language_info": {
   "codemirror_mode": {
    "name": "ipython",
    "version": 3
   },
   "file_extension": ".py",
   "mimetype": "text/x-python",
   "name": "python",
   "nbconvert_exporter": "python",
   "pygments_lexer": "ipython3",
   "version": "3.6.7"
  }
 },
 "nbformat": 4,
 "nbformat_minor": 2
}
