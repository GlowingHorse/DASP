{
 "cells": [
  {
   "cell_type": "markdown",
   "metadata": {},
   "source": [
    "## MNIST MLP (Keras + Tensorflow)\n",
    "\n",
    "Comparison of Deep Shapley propagation with\n",
    "- Gradient * Input\n",
    "- Integrated Gradients\n",
    "- DeepLIFT (Rescale and RevealCancel)\n",
    "- Simple occlusion\n",
    "\n",
    "### Get started\n",
    "Assuming you have Keras > 2.2 and Tensorflow > 1.10, you will need the following libraries for comparison\n",
    "- Install **DeepExplain**\n",
    "https://github.com/marcoancona/DeepExplain\n",
    "- Install **DeepLIFT**\n",
    "https://github.com/kundajelab/deeplift\n",
    "- Install **SHAP**\n",
    "https://github.com/slundberg/shap"
   ]
  },
  {
   "cell_type": "code",
   "execution_count": 1,
   "metadata": {
    "collapsed": false
   },
   "outputs": [],
   "source": [
    "%load_ext autoreload\n",
    "%autoreload 2"
   ]
  },
  {
   "cell_type": "code",
   "execution_count": 2,
   "metadata": {
    "collapsed": false
   },
   "outputs": [
    {
     "name": "stderr",
     "output_type": "stream",
     "text": [
      "Using TensorFlow backend.\n"
     ]
    },
    {
     "name": "stdout",
     "output_type": "stream",
     "text": [
      "Using TF: 1.10.1\n",
      "Using Keras: 2.2.0\n"
     ]
    }
   ],
   "source": [
    "from __future__ import absolute_import\n",
    "from __future__ import division\n",
    "from __future__ import print_function\n",
    "\n",
    "import tempfile, sys, os\n",
    "sys.path.insert(0, os.path.abspath('../..'))\n",
    "\n",
    "import keras\n",
    "from keras.datasets import mnist\n",
    "from keras.models import Sequential, Model, load_model\n",
    "from keras.layers import Dense, Dropout, Flatten, Activation, Input, Conv2D, MaxPooling2D\n",
    "from keras import regularizers\n",
    "from keras import backend as K\n",
    "import numpy as np\n",
    "import tensorflow as tf\n",
    "import scipy\n",
    "print (\"Using TF:\", tf.__version__)\n",
    "print (\"Using Keras:\", keras.__version__)\n",
    "\n",
    "from dasp import DASP\n",
    "\n",
    "\n",
    "# Import DeepLift\n",
    "# Installation instructions: https://github.com/kundajelab/deeplift\n",
    "import deeplift\n",
    "from deeplift.layers import NonlinearMxtsMode\n",
    "from deeplift.conversion import kerasapi_conversion as kc\n",
    "from deeplift.util import compile_func\n",
    "\n",
    "# Import Deep Explain (for Grad * Input, Integrated Gradients and Occlusion implementations)\n",
    "# Installation instructions: https://github.com/marcoancona/DeepExplain\n",
    "from deepexplain.tensorflow import DeepExplain\n",
    "\n",
    "# Import DeepLift\n",
    "# Installation instructions: https://github.com/slundberg/shap\n",
    "import shap"
   ]
  },
  {
   "cell_type": "code",
   "execution_count": 3,
   "metadata": {
    "collapsed": false
   },
   "outputs": [
    {
     "name": "stderr",
     "output_type": "stream",
     "text": [
      "/usr/local/lib/python3.6/dist-packages/ipykernel_launcher.py:17: DeprecationWarning: `imresize` is deprecated!\n",
      "`imresize` is deprecated in SciPy 1.0.0, and will be removed in 1.2.0.\n",
      "Use ``skimage.transform.resize`` instead.\n",
      "/usr/local/lib/python3.6/dist-packages/ipykernel_launcher.py:18: DeprecationWarning: `imresize` is deprecated!\n",
      "`imresize` is deprecated in SciPy 1.0.0, and will be removed in 1.2.0.\n",
      "Use ``skimage.transform.resize`` instead.\n"
     ]
    },
    {
     "name": "stdout",
     "output_type": "stream",
     "text": [
      "Test loss: 0.20852478792145848\n",
      "Test accuracy: 0.9366\n"
     ]
    }
   ],
   "source": [
    "# Build and train a network.\n",
    "\n",
    "SKIP_TRAIN = True\n",
    "saved_model_file = '.model.h5'\n",
    "saved_model_weights_file = '.model_weights.h5'\n",
    "\n",
    "batch_size = 128\n",
    "num_classes = 10\n",
    "epochs = 1\n",
    "\n",
    "# input image dimensions\n",
    "img_rows, img_cols = 28, 28\n",
    "\n",
    "# the data, shuffled and split between train and test sets\n",
    "(x_train, y_train), (x_test, y_test) = mnist.load_data()\n",
    "\n",
    "x_train = np.array([scipy.misc.imresize(x, (img_rows,img_cols,)) for x in x_train])\n",
    "x_test = np.array([scipy.misc.imresize(x, (img_rows,img_cols,)) for x in x_test])\n",
    "\n",
    "x_train = x_train.reshape(-1, img_rows*img_cols)\n",
    "x_test = x_test.reshape(-1, img_rows*img_cols)\n",
    "x_train = x_train.astype('float32')\n",
    "x_test = x_test.astype('float32')\n",
    "x_train /= 255\n",
    "x_test /= 255\n",
    "x_train = (x_train - 0.5) * 2\n",
    "x_test = (x_test - 0.5) * 2\n",
    "\n",
    "# convert class vectors to binary class matrices\n",
    "y_train = keras.utils.to_categorical(y_train, num_classes)\n",
    "y_test = keras.utils.to_categorical(y_test, num_classes)\n",
    "\n",
    "\n",
    "if SKIP_TRAIN:\n",
    "    model = load_model(saved_model_file)\n",
    "else:\n",
    "    model = Sequential()\n",
    "    model.add(Dense(256, input_shape=(img_rows*img_cols,), activation='relu', name='dense_1'))\n",
    "    model.add(Dropout(0.25))\n",
    "    model.add(Dense(128, activation='relu', name='dense_2'))\n",
    "    model.add(Dropout(0.25))\n",
    "    model.add(Dense(num_classes, name='dense_3'))\n",
    "    model.add(Activation('softmax'))\n",
    "    # ^ IMPORTANT: notice that the final softmax must be in its own layer \n",
    "    # if we want to target pre-softmax units\n",
    "\n",
    "    model.compile(loss=keras.losses.categorical_crossentropy,\n",
    "                  optimizer=keras.optimizers.Adadelta(),\n",
    "                  metrics=['accuracy'])\n",
    "\n",
    "    model.fit(x_train, y_train,\n",
    "              batch_size=batch_size,\n",
    "              epochs=epochs,\n",
    "              verbose=1,\n",
    "              validation_data=(x_test, y_test))\n",
    "    model.save(saved_model_file)\n",
    "    model.save_weights(saved_model_weights_file)\n",
    "    \n",
    "score = model.evaluate(x_test, y_test, verbose=0)\n",
    "print('Test loss:', score[0])\n",
    "print('Test accuracy:', score[1])"
   ]
  },
  {
   "cell_type": "markdown",
   "metadata": {
    "collapsed": false
   },
   "source": [
    "### Define a subset of the test set to generate explanations for"
   ]
  },
  {
   "cell_type": "code",
   "execution_count": 4,
   "metadata": {
    "collapsed": true
   },
   "outputs": [],
   "source": [
    "xs = x_test[0:2]\n",
    "ys = y_test[0:2]\n",
    "\n",
    "a_gradin = np.zeros_like(xs)\n",
    "a_intgrad = np.zeros_like(xs)\n",
    "a_res = np.zeros_like(xs)\n",
    "a_rc = np.zeros_like(xs)\n",
    "a_occlusion = np.zeros_like(xs)\n",
    "a_shap = np.zeros_like(xs)\n",
    "a_exact = np.zeros_like(xs)\n",
    "a_shaplud = np.zeros_like(xs)\n",
    "a_sampling = np.zeros_like(xs)"
   ]
  },
  {
   "cell_type": "code",
   "execution_count": 5,
   "metadata": {
    "collapsed": false
   },
   "outputs": [
    {
     "name": "stdout",
     "output_type": "stream",
     "text": [
      "<keras.engine.input_layer.InputLayer object at 0x7f5b7adf7470>\n",
      "<keras.layers.core.Dense object at 0x7f5b7adf7400>\n",
      "relu\n",
      "Tensor(\"dense_1_1/stack:0\", shape=(?, 256, 4), dtype=float32)\n",
      "_________________________________________________________________\n",
      "Layer (type)                 Output Shape              Param #   \n",
      "=================================================================\n",
      "input_4 (InputLayer)         (None, 784, 2)            0         \n",
      "_________________________________________________________________\n",
      "dense_1 (LPDense)            (None, 256, 2)            200960    \n",
      "_________________________________________________________________\n",
      "dense_2 (LPDense)            (None, 128, 2)            32896     \n",
      "_________________________________________________________________\n",
      "dense_3 (LPDense)            (None, 10, 2)             1290      \n",
      "=================================================================\n",
      "Total params: 235,146\n",
      "Trainable params: 235,146\n",
      "Non-trainable params: 0\n",
      "_________________________________________________________________\n",
      "Tensor(\"dense_1_1/stack:0\", shape=(?, 256, 4), dtype=float32)\n",
      "Tensor(\"lambda_1/strided_slice:0\", shape=(?, 256, 2), dtype=float32)\n",
      "__________________________________________________________________________________________________\n",
      "Layer (type)                    Output Shape         Param #     Connected to                     \n",
      "==================================================================================================\n",
      "input_1 (InputLayer)            (None, 784)          0                                            \n",
      "__________________________________________________________________________________________________\n",
      "input_2 (InputLayer)            (None, 784)          0                                            \n",
      "__________________________________________________________________________________________________\n",
      "input_3 (InputLayer)            (None, 1)            0                                            \n",
      "__________________________________________________________________________________________________\n",
      "dense_1 (ProbDenseInput)        (None, 256, 4)       200960      input_1[0][0]                    \n",
      "                                                                 input_2[0][0]                    \n",
      "                                                                 input_3[0][0]                    \n",
      "__________________________________________________________________________________________________\n",
      "lambda_1 (Lambda)               (None, 256, 2)       0           dense_1[0][0]                    \n",
      "__________________________________________________________________________________________________\n",
      "lambda_2 (Lambda)               (None, 256, 2)       0           dense_1[0][0]                    \n",
      "__________________________________________________________________________________________________\n",
      "dense_2 (LPDense)               (None, 128, 2)       32896       lambda_1[0][0]                   \n",
      "                                                                 lambda_2[0][0]                   \n",
      "__________________________________________________________________________________________________\n",
      "dense_3 (LPDense)               (None, 10, 2)        1290        dense_2[1][0]                    \n",
      "                                                                 dense_2[2][0]                    \n",
      "==================================================================================================\n",
      "Total params: 235,146\n",
      "Trainable params: 235,146\n",
      "Non-trainable params: 0\n",
      "__________________________________________________________________________________________________\n"
     ]
    }
   ],
   "source": [
    "reduced_model = Model(model.inputs, model.layers[-2].output)\n",
    "dasp = DASP(reduced_model)\n",
    "shapley = dasp.run(xs)"
   ]
  },
  {
   "cell_type": "code",
   "execution_count": null,
   "metadata": {
    "collapsed": false
   },
   "outputs": [],
   "source": [
    "shapley = dasp.run(xs, 16)"
   ]
  },
  {
   "cell_type": "code",
   "execution_count": 6,
   "metadata": {
    "collapsed": false
   },
   "outputs": [
    {
     "name": "stdout",
     "output_type": "stream",
     "text": [
      "(2, 784)\n",
      "[-3.04721463e-02 -3.18157338e-02 -9.78337880e-03 -7.58767594e-03\n",
      " -8.91571771e-03  6.79771826e-02  5.14253415e-02 -5.13846241e-02\n",
      "  4.31098267e-02  1.18186073e-02  3.32920402e-02  3.22880298e-02\n",
      " -3.83777432e-02  9.30087641e-03 -1.46064192e-01  3.33300121e-02\n",
      " -7.11683482e-02 -4.54572476e-02 -9.59701017e-02  5.85612766e-02\n",
      " -3.34601589e-02 -5.17016910e-02 -1.89978443e-02  1.39209442e-02\n",
      " -3.04342248e-02 -2.81441025e-02 -1.24987058e-01  3.40360031e-02\n",
      " -1.26648042e-03 -4.20509316e-02 -3.11257895e-02 -2.73446739e-02\n",
      " -3.29473950e-02  1.87227428e-02 -3.15301530e-02 -4.44226377e-02\n",
      " -1.11240588e-01 -3.46591026e-02  7.39871338e-03  3.65099311e-02\n",
      " -7.23475739e-02 -7.60901496e-02 -6.77492023e-02  1.55608337e-02\n",
      "  1.36270495e-02  1.37698334e-02  6.46729469e-02 -4.91015464e-02\n",
      " -5.80902724e-03 -8.66356641e-02 -2.72621568e-02  1.90136693e-02\n",
      " -3.06685846e-02  2.25821268e-02  1.26642501e-02 -1.02970086e-01\n",
      " -4.13240958e-03  1.92699267e-03 -1.11515366e-03 -1.74535066e-02\n",
      " -8.99100006e-02  5.28553836e-02 -1.71254966e-02  6.93181753e-02\n",
      " -2.08866294e-03 -7.13848397e-02  3.57164517e-02  3.96586917e-02\n",
      "  4.50269654e-02  1.60704330e-02  2.74863392e-02 -1.53602529e-02\n",
      " -7.23318756e-02  1.60716623e-02 -7.17976987e-02  2.86445860e-02\n",
      " -4.00814228e-03 -2.13937461e-02 -3.84775363e-02  4.63956557e-02\n",
      " -7.53259361e-02  1.02371424e-02  1.06413094e-02 -1.24250343e-02\n",
      " -2.28520893e-02  4.11620960e-02 -4.40373123e-02 -3.91358025e-02\n",
      " -1.61494631e-02  5.60289808e-02 -1.20681655e-02  5.67446053e-02\n",
      "  1.46413911e-02  6.40837522e-03  1.12436369e-01  5.22372760e-02\n",
      " -1.35932136e-02 -1.21943681e-02  6.42172694e-02  1.20093198e-02\n",
      "  6.89162016e-02 -6.48127496e-02 -9.46895964e-03 -6.64551631e-02\n",
      "  7.28831887e-02  1.26861185e-02 -2.71214563e-02  3.00389118e-02\n",
      "  3.03794220e-02 -8.70701950e-03 -5.59176020e-02  3.00008953e-02\n",
      "  1.62850991e-02 -1.77548900e-02 -2.82398388e-02 -8.42725951e-03\n",
      " -1.80926546e-02  4.32642689e-03 -4.71448712e-02 -3.57724056e-02\n",
      " -2.41219997e-02  3.81937362e-02 -2.04683859e-02  1.69220492e-01\n",
      "  7.32477084e-02  9.89749059e-02  1.40321692e-02  7.35684633e-02\n",
      " -2.25945003e-02  6.89335167e-02  1.03708893e-01  2.31473297e-02\n",
      "  5.88801838e-02 -8.90961066e-02 -2.79523544e-02  1.39844734e-02\n",
      " -1.28919296e-02 -1.06258877e-02 -4.06796038e-02 -8.85768235e-02\n",
      "  1.07401730e-02 -3.91675420e-02  5.42599708e-02 -1.01781905e-01\n",
      "  2.57899035e-02  9.51177720e-03  3.79453078e-02 -2.35090200e-02\n",
      " -1.68579761e-02  1.22898199e-01 -4.57290523e-02  8.37068483e-02\n",
      "  1.33948147e-01  5.64779751e-02  1.67248279e-01  1.82633072e-01\n",
      "  2.67673582e-01  2.21073583e-01  1.28104463e-01  1.87742427e-01\n",
      "  4.65111248e-02 -6.02559885e-03  6.97570890e-02 -5.68308821e-03\n",
      "  4.05835137e-02 -1.81240980e-02 -1.69181917e-02 -1.16139352e-01\n",
      "  5.25571182e-02 -7.24210357e-03  2.60260012e-02 -9.34660807e-02\n",
      "  1.51731903e-02 -1.39101520e-02 -2.43987162e-02 -8.51737037e-02\n",
      "  5.58252959e-03 -5.11713922e-02 -2.32490804e-02  2.27966551e-02\n",
      "  2.94032637e-02  1.28352851e-01  6.41596839e-02  1.09175265e-01\n",
      "  7.45005310e-02  1.20833553e-01  2.55222134e-02  1.42143965e-01\n",
      "  9.04526189e-02  5.97348511e-02  3.68329994e-02  1.57613028e-02\n",
      " -6.87214197e-04 -1.91923827e-02  1.79903526e-02  4.26300876e-02\n",
      " -3.60343978e-02  5.83257079e-02 -3.82748917e-02 -8.02493840e-02\n",
      "  4.48733307e-02 -5.66350892e-02 -3.19646415e-03  3.30782086e-02\n",
      "  1.72460321e-02  7.34285684e-03 -7.65369013e-02 -8.52597803e-02\n",
      " -6.16496056e-02  7.94252660e-03 -4.67847809e-02 -5.48712760e-02\n",
      " -1.97322872e-02 -7.52920508e-02 -6.02111630e-02  3.12451683e-02\n",
      " -9.37176123e-03 -6.46798871e-03  6.08817711e-02  4.17221040e-02\n",
      "  3.52840908e-02 -1.81076154e-02 -7.79276900e-03 -6.54422864e-02\n",
      " -1.42487539e-02 -2.29485612e-02 -7.09957853e-02 -2.25840341e-02\n",
      " -1.77330468e-02 -2.82540768e-02  8.15252513e-02  9.28420126e-02\n",
      "  9.79031175e-02  1.29312918e-01  1.33743942e-01  1.32569954e-01\n",
      "  5.03547788e-02 -1.34435780e-02  5.94237670e-02  6.96496367e-02\n",
      "  6.17752559e-02  7.76981711e-02  6.49796873e-02  5.15722446e-02\n",
      "  1.27760991e-02 -3.42788510e-02 -3.85551527e-03  2.37616915e-02\n",
      "  4.32517566e-03  6.18682690e-02  1.53957761e-03 -2.73206718e-02\n",
      " -5.42189442e-02  5.77884316e-02 -7.52764696e-04 -7.24417716e-02\n",
      " -7.05780685e-02 -1.44448252e-02 -6.50310889e-02 -8.15073028e-03\n",
      " -5.11856861e-02 -1.07863061e-02  2.44155414e-02  9.88748446e-02\n",
      "  7.64677972e-02  9.46559682e-02  5.13787642e-02  7.93403238e-02\n",
      "  1.20130539e-01  1.73344851e-01  1.39859825e-01  8.98958743e-02\n",
      "  7.22904727e-02  1.92227412e-03 -2.15597972e-02  8.99429098e-02\n",
      "  3.88368666e-02  1.56667940e-02  6.42433912e-02  1.20822852e-02\n",
      " -3.17946896e-02  3.93024497e-02 -1.99924260e-02 -9.26397275e-04\n",
      " -4.62562218e-02 -2.53715217e-02 -6.84389696e-02 -5.57662435e-02\n",
      " -3.32638472e-02 -5.86849712e-02 -3.67196426e-02 -1.05785923e-02\n",
      " -2.08826363e-02 -8.22520480e-02 -2.50074286e-02 -6.08436055e-02\n",
      " -9.33844522e-02 -9.41598192e-02 -9.58528519e-02  1.40380532e-01\n",
      "  1.12496980e-01 -1.00303208e-02 -7.24847168e-02  5.72378971e-02\n",
      "  1.18170522e-01 -2.36675404e-02 -1.82079207e-02  7.42258802e-02\n",
      " -1.50577147e-02 -7.49885291e-02 -4.32155766e-02  2.97473352e-02\n",
      " -1.26027539e-02 -1.36506796e-01 -4.81515229e-02  3.61897126e-02\n",
      " -4.48153764e-02 -3.68316360e-02 -5.45113236e-02 -4.81937751e-02\n",
      " -3.79368244e-03  6.51433244e-02  1.11755952e-01 -8.69724527e-02\n",
      " -1.68631807e-01 -1.94126710e-01 -5.39175645e-02  1.10304505e-01\n",
      "  8.51523653e-02 -5.87779060e-02  1.83379315e-02  1.96426418e-02\n",
      "  1.37970433e-01  3.51177230e-02  1.54879242e-02  6.20219074e-02\n",
      "  6.41029924e-02 -7.91324675e-02 -2.98788454e-02 -5.05926907e-02\n",
      "  3.35378535e-02 -2.03017872e-02  3.93761843e-02 -2.50382964e-02\n",
      " -8.01427476e-03  6.26735911e-02 -2.21085399e-02  5.44271581e-02\n",
      "  1.79713130e-01  1.76770225e-01  1.89464137e-01  2.12093089e-02\n",
      " -9.32312235e-02 -1.53394297e-01  1.47058740e-01  6.68022707e-02\n",
      " -3.27939056e-02 -2.18232675e-03 -5.83088165e-03  5.17512150e-02\n",
      "  1.70035344e-02 -1.05702244e-01  3.05774575e-03 -7.08880648e-02\n",
      "  7.96961039e-03  2.03008410e-02 -2.31815558e-02 -8.07947386e-03\n",
      "  1.90489448e-03 -1.58917569e-02  1.10662049e-02  7.06309378e-02\n",
      " -8.79008323e-03  5.67828193e-02  8.57102424e-02  1.35292813e-01\n",
      "  3.23805064e-01  3.50429803e-01  1.81871265e-01  3.93901207e-03\n",
      " -1.46512628e-01  2.44743144e-03  1.00339703e-01  5.98734356e-02\n",
      " -5.48284203e-02  4.56107110e-02  2.69176140e-02  4.28706855e-02\n",
      "  1.58885960e-02  1.51670119e-03 -5.76926433e-02 -2.57350951e-02\n",
      " -3.40874568e-02  6.81282058e-02 -1.71800051e-02 -3.45598757e-02\n",
      "  6.92627858e-04  2.64946483e-02  8.92283767e-03  2.04606112e-02\n",
      "  3.54923457e-02  7.46426880e-02  1.16576217e-01  2.54175484e-01\n",
      "  2.29588613e-01  3.22036415e-01  1.16521813e-01 -1.04650380e-02\n",
      " -3.60881165e-02  1.78048626e-01  1.44159332e-01 -5.22724353e-02\n",
      " -8.31825659e-02 -9.12952200e-02  3.38387303e-02  5.76697178e-02\n",
      " -6.41516075e-02 -4.20313664e-02 -2.73030493e-02  2.08847225e-02\n",
      "  8.03863555e-02 -3.14468220e-02 -1.62670761e-02 -5.95457703e-02\n",
      " -4.65548672e-02  7.75544047e-02  1.89704206e-02  8.48690346e-02\n",
      "  1.26327768e-01  5.22437096e-02  2.05102995e-01  1.56390429e-01\n",
      "  2.57761836e-01  3.01294029e-01  1.27898172e-01 -5.72274253e-02\n",
      "  1.69667148e-03  1.40101001e-01  8.39405656e-02 -9.32835788e-02\n",
      " -4.47998345e-02 -3.74464467e-02  1.69192255e-02  3.20235565e-02\n",
      " -5.19229425e-03 -7.93551877e-02 -6.60340860e-03 -9.85562652e-02\n",
      " -2.01107115e-02  6.40864074e-02 -1.76089630e-02  1.52068725e-03\n",
      " -2.81564123e-03  1.37846377e-02  7.30561167e-02  4.92293984e-02\n",
      "  2.24474166e-02  6.34249151e-02  1.09974138e-01  1.26192361e-01\n",
      "  1.16292581e-01  1.12506941e-01  9.97995660e-02 -1.66554376e-02\n",
      "  8.77926275e-02  1.72630191e-01 -6.95879534e-02 -6.00444153e-02\n",
      " -6.67205527e-02 -8.47117230e-03  8.65073316e-03  5.12050316e-02\n",
      " -1.65449250e-02  1.05188452e-02 -1.04274362e-01 -9.18411911e-02\n",
      " -3.79117131e-02 -2.58961990e-02  3.93855311e-02 -6.18606582e-02\n",
      " -1.17218057e-02  1.61676183e-02  1.15503343e-02  7.87584931e-02\n",
      "  4.12463956e-02  8.56093094e-02  6.70301691e-02  1.14610106e-01\n",
      "  1.07398696e-01  1.12338066e-01 -8.42708871e-02 -4.22705052e-04\n",
      "  2.89653558e-02  3.06505132e-02  3.63579430e-02  5.43235615e-02\n",
      "  5.60556725e-02  1.59830078e-02  7.09327459e-02 -2.04511099e-02\n",
      "  2.30216738e-02  2.64837798e-02 -1.63728297e-02 -7.06771165e-02\n",
      "  7.51661649e-03 -1.66463968e-03  1.88559908e-02 -5.19602150e-02\n",
      "  2.80185286e-02  2.93326285e-03  1.29207805e-01  1.37449279e-01\n",
      "  1.83120430e-01  1.48261875e-01  5.64613827e-02  1.74912885e-01\n",
      "  5.90071790e-02  3.86538208e-02 -2.42233817e-02  2.66222414e-02\n",
      " -5.88448010e-02  1.62405632e-02  4.44800220e-02  3.42300124e-02\n",
      "  7.36344308e-02  4.13908139e-02  1.07088037e-01  1.23702146e-01\n",
      "  3.07019688e-02 -2.42628418e-02  1.98483951e-02 -6.97849616e-02\n",
      " -4.55552861e-02 -6.77468181e-02 -9.20331106e-02 -3.29120532e-02\n",
      " -2.45781522e-02  9.04149637e-02  5.11351004e-02  1.53239548e-01\n",
      "  2.02544317e-01  1.61590531e-01  1.43318981e-01  9.32802483e-02\n",
      "  1.24200799e-01 -1.07760699e-02  4.56093661e-02  1.51595222e-02\n",
      " -2.08336860e-02  8.48104060e-02  1.78941578e-01  1.40450031e-01\n",
      "  1.02499045e-01  9.66954753e-02  6.51557967e-02  9.86367837e-02\n",
      "  1.48260668e-02  4.73389812e-02 -6.46896139e-02  4.35769595e-02\n",
      " -3.10243294e-02 -5.20437397e-02 -1.22567257e-02 -3.84396240e-02\n",
      "  6.98291063e-02  6.35689124e-02  1.09698273e-01  1.22009762e-01\n",
      "  1.14734083e-01  1.78695947e-01  1.98686838e-01  1.26663014e-01\n",
      " -1.39693869e-02  8.55836086e-03 -6.07393449e-03 -5.86230792e-02\n",
      "  9.27197039e-02  4.61613387e-02  1.06936082e-01  1.26135021e-01\n",
      "  1.84551626e-01  2.97217071e-02  1.04248144e-01 -1.19378176e-02\n",
      "  3.91617976e-02 -3.53566594e-02 -1.37216086e-02 -4.72694896e-02\n",
      "  2.78597753e-02 -1.07874945e-01 -3.22849639e-02 -2.31443718e-02\n",
      "  3.20842899e-02  5.26695848e-02  1.23147808e-01  1.77732542e-01\n",
      "  1.43586531e-01  1.39652580e-01  1.37896389e-01  1.04475491e-01\n",
      "  8.26878026e-02 -1.33699030e-01 -8.49819928e-02  2.16223225e-02\n",
      "  1.33603975e-01  1.19686402e-01  9.79844928e-02  1.69446677e-01\n",
      "  5.90863042e-02 -1.67581532e-02  1.10332288e-01 -9.14652459e-03\n",
      " -1.59821403e-03 -6.43406436e-02  6.13102457e-03  2.91116536e-03\n",
      "  1.37534796e-03  4.02617780e-03  4.48307348e-03 -4.34881411e-02\n",
      "  4.01110202e-02  3.82500663e-02  1.18513349e-02  6.75857887e-02\n",
      "  8.26633126e-02  2.24657450e-02  8.39138255e-02  6.58773854e-02\n",
      " -4.80190963e-02 -1.06363654e-01  9.73050250e-04  6.17296956e-02\n",
      "  9.69663560e-02  7.99475014e-02  7.23741502e-02  1.04871072e-01\n",
      "  4.68638279e-02  1.02971449e-01  6.06514886e-02  1.73083209e-02\n",
      " -8.39778334e-02 -2.41272449e-02 -5.28558306e-02 -3.73904686e-03\n",
      "  6.96913525e-03  2.09276825e-02 -5.74298687e-02  2.61086592e-04\n",
      " -4.78552133e-02 -4.58559096e-02  4.61929962e-02  9.09697078e-03\n",
      "  1.56839266e-02  3.27267461e-02  3.05528492e-02  1.94630458e-03\n",
      " -5.69529422e-02 -8.22099894e-02  2.59109167e-03 -5.40618831e-03\n",
      " -2.03606021e-02  4.99799401e-02  1.16741359e-01  1.83322299e-02\n",
      "  2.64836149e-03 -2.06587072e-02  5.32185994e-02 -3.09700184e-02\n",
      "  2.00484302e-02 -1.30071864e-02 -1.33731961e-01 -1.97578687e-02\n",
      " -2.77969018e-02  6.95891902e-02 -2.25773193e-02  2.55886577e-02\n",
      "  3.43367457e-02 -1.40701141e-02 -6.70903474e-02 -8.30642283e-02\n",
      " -4.95553985e-02 -1.47034004e-01 -4.33192737e-02  1.49958923e-01\n",
      "  9.12425369e-02  1.20798117e-02  2.09444985e-02 -8.62641260e-02\n",
      " -7.93910250e-02 -2.36631464e-02 -7.93775171e-02 -3.94014362e-03\n",
      "  1.64109957e-03  5.79948239e-02 -6.46032067e-03 -2.66304072e-02\n",
      "  1.70051716e-02  9.66477487e-03  8.84241983e-03 -1.65198669e-02\n",
      " -6.45281151e-02 -1.24102766e-02 -1.14898374e-02 -2.05832105e-02\n",
      " -5.03651835e-02  2.74881534e-02 -8.07370469e-02 -7.75276870e-02\n",
      " -1.00036271e-01 -9.36383307e-02 -7.15699373e-03  9.11834016e-02\n",
      "  6.57077581e-02  1.32200688e-01 -6.90577403e-02 -1.15211062e-01\n",
      " -7.98231512e-02 -8.34215134e-02 -2.87518594e-02  2.23464090e-02\n",
      " -5.37756309e-02  3.80399525e-02 -1.82680115e-02 -4.84422967e-02\n",
      "  2.04391107e-02 -2.90645822e-03 -1.84879359e-02 -5.29318526e-02\n",
      " -4.10173871e-02 -4.00040820e-02 -4.06558672e-03  1.58793237e-02\n",
      " -2.22011395e-02 -1.21167488e-02 -9.86362714e-03 -1.51919611e-02\n",
      " -8.90707877e-03 -1.04928903e-01 -1.94048590e-03  1.00314841e-01\n",
      "  4.01728675e-02 -8.09518769e-02 -9.33293924e-02 -1.28920842e-03\n",
      " -1.10142261e-01 -4.91128750e-02 -9.21868067e-03 -5.99387437e-02\n",
      " -7.26087242e-02 -5.64945191e-02 -1.47789838e-02 -3.76744792e-02\n",
      " -8.26698821e-03  3.19092870e-02 -6.21929057e-02 -9.26656723e-02\n",
      " -1.45732844e-03 -5.79280481e-02  4.42386158e-02 -3.21402438e-02\n",
      "  8.38148817e-02 -3.31716705e-03 -6.30105063e-02  2.83174682e-04\n",
      "  1.25891846e-02 -1.81095935e-02  9.17405169e-03 -4.06875275e-02\n",
      " -1.75603793e-03 -9.38770324e-02 -8.59296396e-02 -1.13013517e-02\n",
      " -8.73748660e-02  9.51638538e-03 -2.60746777e-02  1.68709143e-03\n",
      " -6.47178963e-02 -9.90793481e-02 -1.15949862e-01 -2.52093934e-02\n",
      "  1.42979091e-02 -1.50592886e-02 -2.73958426e-02 -1.02683557e-02]\n"
     ]
    }
   ],
   "source": [
    "a_shap = np.array([shapley[i, c, :] for i, c in enumerate(np.argmax(ys, 1))])\n",
    "print (a_shap.shape)\n",
    "print (a_shap[0])"
   ]
  },
  {
   "cell_type": "code",
   "execution_count": 5,
   "metadata": {
    "collapsed": false
   },
   "outputs": [
    {
     "name": "stdout",
     "output_type": "stream",
     "text": [
      "relu\n",
      "relu\n",
      "linear\n",
      "[0, 26, 52, 78, 104, 130, 156, 182, 208, 234, 260, 286, 312, 338, 364, 390, 416, 442, 468, 494, 520, 546, 572, 598, 624, 650, 676, 702, 728, 754, 780]\n",
      "Done\n",
      "CPU times: user 48.7 s, sys: 3.65 s, total: 52.4 s\n",
      "Wall time: 36.8 s\n"
     ]
    }
   ],
   "source": [
    "%%time\n",
    "\n",
    "# Create an equivalent probabilistic model.\n",
    "probInput = Input(shape=xs.shape[1:])\n",
    "playerMask = Input(shape=xs.shape[1:])\n",
    "coalitionSize = Input(shape=(1,))\n",
    "\n",
    "probInput = Input(shape=xs.shape[1:])\n",
    "y = ProbDenseInput(256, activation='relu', name='dense_1')([probInput, playerMask, coalitionSize])\n",
    "y = ProbDense(128, activation='relu', name='dense_2')(y)\n",
    "y = ProbDense(num_classes, name='dense_3')(y)\n",
    "probModel = Model(inputs=[probInput, playerMask, coalitionSize], outputs=y)\n",
    "# ... and load weights in it\n",
    "probModel.load_weights(saved_model_weights_file, by_name=True)\n",
    "\n",
    "# Implement loop to estimate shapley values\n",
    "# Params\n",
    "xn = 30\n",
    "\n",
    "# Prepare array for output\n",
    "result = np.zeros(xs.shape + (10,))\n",
    "# Count how many input features are there\n",
    "n_input_feat = xs.shape[1]\n",
    "# Define sub-coalition sizes\n",
    "Ks = range (0, n_input_feat, max(1, n_input_feat//xn))\n",
    "print (list(Ks))\n",
    "\n",
    "# Prepare array for output\n",
    "result = np.zeros((xs.shape[0], xs.shape[1], 10))\n",
    "# Define sub-coalition sizes\n",
    "Ks = range (0, n_input_feat, max(1, n_input_feat // xn))\n",
    "\n",
    "for j in range(n_input_feat):\n",
    "    for ki in range(len(Ks)):\n",
    "        # Define coalition size\n",
    "        k = Ks[ki]\n",
    "        #print (k)\n",
    "        # Compute mask where 0 indicate the current player being tested\n",
    "        _mask = np.ones_like(xs)\n",
    "        _mask[:, j] = 0.0\n",
    "        \n",
    "        # Workaround: Keras does not seem to support scalar inputs\n",
    "        _k = np.array([[k]]*len(xs))\n",
    "        \n",
    "        Y = probModel.predict([xs, _mask, _k])\n",
    "        \n",
    "        # Compute Shapley Values as mean of all coalition sizes\n",
    "        result[:, j, :] += ((Y[..., 2] - Y[..., 0]) / len(Ks))\n",
    "# Extract only the attribution for the correct class according to GT\n",
    "a_shap = np.array([result[i, :, c] for i, c in enumerate(np.argmax(ys, 1))])\n",
    "a_shap = a_shap.reshape(xs.shape)\n",
    "print ('Done')"
   ]
  },
  {
   "cell_type": "code",
   "execution_count": 8,
   "metadata": {
    "collapsed": false,
    "scrolled": false
   },
   "outputs": [
    {
     "name": "stdout",
     "output_type": "stream",
     "text": [
      "DeepExplain: running \"grad*input\" explanation method (2)\n",
      "Model with multiple inputs:  False\n",
      "DeepExplain: running \"intgrad\" explanation method (3)\n",
      "Model with multiple inputs:  False\n",
      "DeepExplain: running \"occlusion\" explanation method (6)\n",
      "Model with multiple inputs:  False\n",
      "Input shape: (784,); window_shape (1,); step 1\n",
      "Done\n",
      "CPU times: user 880 ms, sys: 64 ms, total: 944 ms\n",
      "Wall time: 703 ms\n"
     ]
    }
   ],
   "source": [
    "%%time\n",
    "with DeepExplain(session=K.get_session()) as de:  # <-- init DeepExplain context\n",
    "    # Need to reconstruct the graph in DeepExplain context, using the same weights.\n",
    "    # With Keras this is very easy:\n",
    "    # 1. Get the input tensor to the original model\n",
    "    input_tensor = model.layers[0].input\n",
    "    \n",
    "    # 2. We now target the output of the last dense layer (pre-softmax)\n",
    "    # To do so, create a new model sharing the same layers untill the last dense (index -2)\n",
    "    fModel = Model(inputs=input_tensor, outputs = model.layers[-2].output)\n",
    "    target_tensor = fModel(input_tensor)\n",
    "    \n",
    "    a_gradin = de.explain('grad*input', target_tensor * ys, input_tensor, xs)\n",
    "    a_intgrad = de.explain('intgrad', target_tensor * ys, input_tensor, xs)\n",
    "    a_occlusion = de.explain('occlusion', target_tensor * ys, input_tensor, xs)\n",
    "    print (\"Done\")"
   ]
  },
  {
   "cell_type": "code",
   "execution_count": 7,
   "metadata": {
    "collapsed": false
   },
   "outputs": [
    {
     "name": "stdout",
     "output_type": "stream",
     "text": [
      "nonlinear_mxts_mode is set to: RevealCancel\n",
      "Heads-up: I assume softmax is the output layer, not an intermediate one; if it's an intermediate layer, please let me know and I will prioritise that use-case\n",
      "nonlinear_mxts_mode is set to: Rescale\n",
      "Heads-up: I assume softmax is the output layer, not an intermediate one; if it's an intermediate layer, please let me know and I will prioritise that use-case\n",
      "CPU times: user 7.05 s, sys: 140 ms, total: 7.19 s\n",
      "Wall time: 7.07 s\n"
     ]
    }
   ],
   "source": [
    "%%time\n",
    "# Compute DeepLift attributions\n",
    "revealcancel_model = kc.convert_model_from_saved_files(\n",
    "                            h5_file=saved_model_file,\n",
    "                            nonlinear_mxts_mode=NonlinearMxtsMode.RevealCancel)\n",
    "\n",
    "    \n",
    "    \n",
    "rescale_model = kc.convert_model_from_saved_files(\n",
    "                            h5_file=saved_model_file,\n",
    "                            nonlinear_mxts_mode=NonlinearMxtsMode.Rescale)\n",
    "\n",
    "revealcancel_func = revealcancel_model.get_target_contribs_func(find_scores_layer_idx=0, target_layer_idx=-2)\n",
    "rescale_func = rescale_model.get_target_contribs_func(find_scores_layer_idx=0, target_layer_idx=-2)\n",
    "\n",
    "a_rc = np.array([np.array(revealcancel_func(\n",
    "                task_idx=np.argmax(y),\n",
    "                input_data_list=[[x]],\n",
    "                input_references_list=[[np.zeros_like(x)]],\n",
    "                batch_size=100,\n",
    "                progress_update=None)) for x, y in zip(xs,ys)])\n",
    "\n",
    "a_res = np.array([np.array(rescale_func(\n",
    "                task_idx=np.argmax(y),\n",
    "                input_data_list=[[x]],\n",
    "                input_references_list=[[np.zeros_like(x)]],\n",
    "                batch_size=100,\n",
    "                progress_update=None)) for x, y in zip(xs,ys)])"
   ]
  },
  {
   "cell_type": "code",
   "execution_count": 8,
   "metadata": {
    "collapsed": false
   },
   "outputs": [
    {
     "name": "stdout",
     "output_type": "stream",
     "text": [
      "CPU times: user 1.24 s, sys: 44 ms, total: 1.28 s\n",
      "Wall time: 1.21 s\n"
     ]
    }
   ],
   "source": [
    "%%time\n",
    "\n",
    "# select a set of background examples to take an expectation over\n",
    "background = x_train[np.random.choice(x_train.shape[0], 100, replace=False)]\n",
    "background = np.zeros_like(background)\n",
    "\n",
    "# explain predictions of the model on four images\n",
    "e = shap.DeepExplainer((model.layers[0].input, model.layers[-2].output), background)\n",
    "shap_values = e.shap_values(xs)\n",
    "#shap.image_plot(shap_values, -xs)\n",
    "a_shaplud = [shap_values[idx][i] for i, idx in enumerate(np.argmax(ys, 1))]"
   ]
  },
  {
   "cell_type": "markdown",
   "metadata": {},
   "source": [
    "### Use Monte Carlo sampling to estimate the Shapley Values \n",
    "**Warn: it might take some time**"
   ]
  },
  {
   "cell_type": "code",
   "execution_count": 9,
   "metadata": {
    "collapsed": false
   },
   "outputs": [
    {
     "name": "stdout",
     "output_type": "stream",
     "text": [
      "CPU times: user 7min 36s, sys: 34.8 s, total: 8min 11s\n",
      "Wall time: 5min 39s\n"
     ]
    }
   ],
   "source": [
    "%%time\n",
    "from utils.shapley_sampling import run_shapley_sampling\n",
    "a_sampling = run_shapley_sampling(fModel, xs, ys)"
   ]
  },
  {
   "cell_type": "markdown",
   "metadata": {},
   "source": [
    "#### Plot some heatmaps from the different methods"
   ]
  },
  {
   "cell_type": "code",
   "execution_count": 9,
   "metadata": {
    "collapsed": false
   },
   "outputs": [
    {
     "data": {
      "image/png": "[encoded data removed]",
      "text/plain": [
       "<Figure size 864x288 with 16 Axes>"
      ]
     },
     "metadata": {
      "needs_background": "light"
     },
     "output_type": "display_data"
    }
   ],
   "source": [
    "# Plot attributions\n",
    "%matplotlib inline\n",
    "from utils.utils import plot_attribution_maps\n",
    "\n",
    "attributions = [a_gradin, a_intgrad, a_res, a_rc, a_occlusion, a_shaplud, a_shap, a_sampling]\n",
    "names = ['Gradient * Input', 'Integrated Gradients', 'DeepLIFT (Rescale)',\n",
    "         'DeepLIFT (RevCancel)', 'Occlusion', 'Deep SHAP', 'Deep Shapley (ours)', 'Sampling']\n",
    "\n",
    "# Fix shape of attributions\n",
    "shape = (xs.shape[0], img_rows,img_cols, 1)\n",
    "attributions = [np.array(a).reshape(shape) for a in attributions]\n",
    "xs_input = xs.reshape(shape)\n",
    "# Plot all\n",
    "plot_attribution_maps('test_mnist', xs_input, attributions, names, idxs=[0, 1])"
   ]
  },
  {
   "cell_type": "markdown",
   "metadata": {},
   "source": [
    "#### Compare mean absolute error and Kendall tau correlation"
   ]
  },
  {
   "cell_type": "code",
   "execution_count": 11,
   "metadata": {
    "collapsed": false
   },
   "outputs": [
    {
     "data": {
      "image/png": "[encoded data removed]",
      "text/plain": [
       "<Figure size 1152x288 with 1 Axes>"
      ]
     },
     "metadata": {
      "needs_background": "light"
     },
     "output_type": "display_data"
    },
    {
     "data": {
      "image/png": "[encoded data removed]",
      "text/plain": [
       "<Figure size 1152x288 with 1 Axes>"
      ]
     },
     "metadata": {
      "needs_background": "light"
     },
     "output_type": "display_data"
    }
   ],
   "source": [
    "from utils.utils import plot_mae_comparison, plot_kendall_comparison\n",
    "methods = [a_gradin, a_intgrad, a_res, a_rc, a_shap, a_shaplud, a_occlusion, a_sampling]\n",
    "method_names = ['Grad*Input', 'Integrated Gradients', 'DL (Rescale)', 'DL (RevCanc)', 'Deep Shapley (ours)', 'Deep SHAP', 'Occlusion', 'Sampling']\n",
    "\n",
    "plot_mae_comparison(methods, method_names, gt_idx=-1)\n",
    "plot_kendall_comparison(methods, method_names, gt_idx=-1)"
   ]
  },
  {
   "cell_type": "code",
   "execution_count": 12,
   "metadata": {
    "collapsed": false
   },
   "outputs": [
    {
     "ename": "NameError",
     "evalue": "name 'compute_deepshap' is not defined",
     "output_type": "error",
     "traceback": [
      "\u001b[0;31m---------------------------------------------------------------------------\u001b[0m",
      "\u001b[0;31mNameError\u001b[0m                                 Traceback (most recent call last)",
      "\u001b[0;32m<ipython-input-12-02d007c12dc3>\u001b[0m in \u001b[0;36m<module>\u001b[0;34m\u001b[0m\n\u001b[1;32m      4\u001b[0m \u001b[0mthe_model\u001b[0m \u001b[0;34m=\u001b[0m \u001b[0mprobModel\u001b[0m\u001b[0;34m\u001b[0m\u001b[0;34m\u001b[0m\u001b[0m\n\u001b[1;32m      5\u001b[0m \u001b[0moriginal_weights\u001b[0m \u001b[0;34m=\u001b[0m \u001b[0;34m{\u001b[0m\u001b[0;34m}\u001b[0m\u001b[0;34m\u001b[0m\u001b[0;34m\u001b[0m\u001b[0m\n\u001b[0;32m----> 6\u001b[0;31m \u001b[0mattribute_f\u001b[0m \u001b[0;34m=\u001b[0m \u001b[0mcompute_deepshap\u001b[0m\u001b[0;34m\u001b[0m\u001b[0;34m\u001b[0m\u001b[0m\n\u001b[0m\u001b[1;32m      7\u001b[0m \u001b[0;34m\u001b[0m\u001b[0m\n\u001b[1;32m      8\u001b[0m \u001b[0mplt\u001b[0m\u001b[0;34m.\u001b[0m\u001b[0mfigure\u001b[0m\u001b[0;34m(\u001b[0m\u001b[0;34m)\u001b[0m\u001b[0;34m\u001b[0m\u001b[0;34m\u001b[0m\u001b[0m\n",
      "\u001b[0;31mNameError\u001b[0m: name 'compute_deepshap' is not defined"
     ]
    }
   ],
   "source": [
    "# Randomization test\n",
    "original_attribution = a_shap\n",
    "heatmaps = []\n",
    "the_model = probModel\n",
    "original_weights = {}\n",
    "attribute_f = compute_deepshap\n",
    "\n",
    "plt.figure()\n",
    "plot(original_attribution[idx].reshape(img_rows, img_cols), xs[idx].reshape(img_rows, img_cols)).title('Original')\n",
    "\n",
    "for i, l in enumerate(the_model.layers[::-1]):\n",
    "    if (len(l.get_weights())):\n",
    "        original_weights[i] = l.get_weights()\n",
    "        # Replace weights with random\n",
    "        new_weights = [np.random.normal(size=w.shape) for w in l.get_weights()]\n",
    "        l.set_weights(new_weights)\n",
    "        print (i, l)\n",
    "        a = attribute_f()\n",
    "        plt.figure()\n",
    "        plot(a[idx].reshape(img_rows, img_cols), xs[idx].reshape(img_rows, img_cols)).title(str(i))\n",
    "        heatmaps.append(a)\n",
    "        \n",
    "        \n",
    "# Restore weights\n",
    "for i, l in enumerate(the_model.layers[::-1]):\n",
    "    if (len(l.get_weights())):\n",
    "        l.set_weights(original_weights[i])\n",
    "\n",
    "print (\"Correlations\")\n",
    "for attr in heatmaps:\n",
    "    corr = np.mean([scipy.stats.spearmanr(x.flatten(), y.flatten())[0] for x,y in zip(original_attribution, attr)])\n",
    "    print (corr)"
   ]
  },
  {
   "cell_type": "code",
   "execution_count": null,
   "metadata": {
    "collapsed": false
   },
   "outputs": [],
   "source": [
    "# Randomization test\n",
    "import matplotlib.pyplot as plt\n",
    "from utils.utils import plot\n",
    "\n",
    "original_attribution = a_intgrad\n",
    "heatmaps = []\n",
    "the_model = fModel\n",
    "original_weights = {}\n",
    "print (original_attribution.shape)\n",
    "idx=1\n",
    "plt.figure()\n",
    "plot(original_attribution[idx].reshape(img_rows, img_cols), xs[idx].reshape(img_rows, img_cols)).title('Original')\n",
    "\n",
    "with DeepExplain(session=K.get_session()) as de:  # <-- init DeepExplain context\n",
    "    for i, l in enumerate(the_model.layers[::-1]):\n",
    "        if (len(l.get_weights())):\n",
    "            original_weights[i] = l.get_weights()\n",
    "            # Replace weights with random\n",
    "            new_weights = [np.random.normal(size=w.shape) for w in l.get_weights()]\n",
    "            l.set_weights(new_weights)\n",
    "            print (i, l.get_weights()[0].shape)\n",
    "            a = de.explain('grad*input', target_tensor * ys, input_tensor, xs)\n",
    "            plt.figure()\n",
    "            plot(a[idx].reshape(img_rows, img_cols), xs[idx].reshape(img_rows, img_cols)).title(str(i))\n",
    "            #print (a[idx])\n",
    "            heatmaps.append(a)\n",
    "        \n",
    "        \n",
    "# Restore weights\n",
    "for i, l in enumerate(the_model.layers[::-1]):\n",
    "    if (len(l.get_weights())):\n",
    "        l.set_weights(original_weights[i])\n",
    "\n",
    "print (\"Correlations\")\n",
    "for attr in heatmaps:\n",
    "    corr = np.mean([scipy.stats.spearmanr(x.flatten(), y.flatten())[0] for x,y in zip(original_attribution, attr)])\n",
    "    print (corr)"
   ]
  }
 ],
 "metadata": {
  "kernelspec": {
   "display_name": "Python 3",
   "language": "python",
   "name": "python3"
  },
  "language_info": {
   "codemirror_mode": {
    "name": "ipython",
    "version": 3
   },
   "file_extension": ".py",
   "mimetype": "text/x-python",
   "name": "python",
   "nbconvert_exporter": "python",
   "pygments_lexer": "ipython3",
   "version": "3.6.7"
  }
 },
 "nbformat": 4,
 "nbformat_minor": 1
}
